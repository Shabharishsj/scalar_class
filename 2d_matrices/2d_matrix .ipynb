{
 "cells": [
  {
   "cell_type": "code",
   "execution_count": 4,
   "id": "0d1b5f0b",
   "metadata": {},
   "outputs": [
    {
     "name": "stdout",
     "output_type": "stream",
     "text": [
      "1 2 3 \n",
      "4 5 6 \n",
      "7 8 9 \n"
     ]
    }
   ],
   "source": [
    "# Print 2D matrix \n",
    "\n",
    "A = [[1,2,3],[4,5,6],[7,8,9]]\n",
    "\n",
    "for i in range(0,len(A)):\n",
    "    for j in range(0,len(A[0])):\n",
    "        print(A[i][j],end=\" \")\n",
    "    print()"
   ]
  },
  {
   "cell_type": "code",
   "execution_count": 10,
   "id": "c73d789c",
   "metadata": {},
   "outputs": [
    {
     "name": "stdout",
     "output_type": "stream",
     "text": [
      "18\n"
     ]
    }
   ],
   "source": [
    "# Print max of sum of columns \n",
    "\n",
    "A = [[1,2,3],[4,5,6],[7,8,9]]\n",
    "\n",
    "maxx = float('-inf')\n",
    "\n",
    "for i in range(0,len(A)):\n",
    "    summ = 0\n",
    "    for j in range(0,len(A[0])):\n",
    "        summ += A[j][i]\n",
    "    \n",
    "    maxx = max(summ,maxx)\n",
    "\n",
    "print(maxx)"
   ]
  },
  {
   "cell_type": "code",
   "execution_count": 8,
   "id": "11f356ce",
   "metadata": {},
   "outputs": [
    {
     "name": "stdout",
     "output_type": "stream",
     "text": [
      "1\n",
      "5\n",
      "9\n"
     ]
    }
   ],
   "source": [
    "# Print diagonal elements L to R of a NxN matrix\n",
    "\n",
    "A = [[1,2,3],[4,5,6],[7,8,9]]\n",
    "\n",
    "for i in range(0,len(A)):\n",
    "    print(A[i][i])"
   ]
  },
  {
   "cell_type": "code",
   "execution_count": 12,
   "id": "083b9358",
   "metadata": {},
   "outputs": [
    {
     "name": "stdout",
     "output_type": "stream",
     "text": [
      "3\n",
      "5\n",
      "7\n"
     ]
    }
   ],
   "source": [
    "# Print diagonal elements R to L of a NxN matrix\n",
    "\n",
    "A = [[1,2,3],[4,5,6],[7,8,9]]\n",
    "\n",
    "j = len(A)-1\n",
    "\n",
    "for i in range(0,len(A)):\n",
    "    print(A[i][j])\n",
    "    j -= 1"
   ]
  },
  {
   "cell_type": "code",
   "execution_count": 37,
   "id": "ccdc10c3",
   "metadata": {},
   "outputs": [
    {
     "name": "stdout",
     "output_type": "stream",
     "text": [
      "1\n",
      "2\n",
      "4\n",
      "3\n",
      "5\n",
      "7\n",
      "0\n",
      "6\n",
      "8\n"
     ]
    }
   ],
   "source": [
    "# Print diagonal elements R to L of a NxM matrix\n",
    "\n",
    "A = [[1,2,3,0],\n",
    "     [4,5,6,0],\n",
    "     [7,8,9,0]]\n",
    "\n",
    "for x in range(0,len(A[0])):\n",
    "    \n",
    "    i = 0\n",
    "    j = x\n",
    "    \n",
    "    while(i<len(A) and j>=0):\n",
    "        print(A[i][j])\n",
    "        j -= 1\n",
    "        i += 1\n",
    "    "
   ]
  },
  {
   "cell_type": "code",
   "execution_count": 46,
   "id": "6e42f5b8",
   "metadata": {},
   "outputs": [
    {
     "name": "stdout",
     "output_type": "stream",
     "text": [
      "[[1, 4, 7], [2, 5, 8], [3, 6, 9]]\n"
     ]
    }
   ],
   "source": [
    "# Transpose a matrix NxN without extra space O(1)\n",
    "\n",
    "A = [[1,2,3],\n",
    "     [4,5,6],\n",
    "     [7,8,9]]\n",
    "\n",
    "N = len(A)\n",
    "\n",
    "for i in range(0,N):\n",
    "    for j in range(0,N):\n",
    "        if i < j:\n",
    "            A[i][j],A[j][i] = A[j][i],A[i][j]\n",
    "print(A)"
   ]
  },
  {
   "cell_type": "code",
   "execution_count": 47,
   "id": "e4713b39",
   "metadata": {},
   "outputs": [],
   "source": [
    "# 90 degree a matrix NxN without extra space O(1)\n",
    "\n",
    "A = [[1,2,3],\n",
    "     [4,5,6],\n",
    "     [7,8,9]]\n",
    "\n",
    "N = len(A)\n",
    "\n",
    "# transpose\n",
    "# reverse the rows "
   ]
  },
  {
   "cell_type": "code",
   "execution_count": null,
   "id": "64d4320a",
   "metadata": {},
   "outputs": [],
   "source": []
  }
 ],
 "metadata": {
  "kernelspec": {
   "display_name": "Python 3 (ipykernel)",
   "language": "python",
   "name": "python3"
  },
  "language_info": {
   "codemirror_mode": {
    "name": "ipython",
    "version": 3
   },
   "file_extension": ".py",
   "mimetype": "text/x-python",
   "name": "python",
   "nbconvert_exporter": "python",
   "pygments_lexer": "ipython3",
   "version": "3.9.12"
  }
 },
 "nbformat": 4,
 "nbformat_minor": 5
}
