{
 "cells": [
  {
   "cell_type": "code",
   "execution_count": 4,
   "id": "4801ffd0",
   "metadata": {},
   "outputs": [
    {
     "name": "stdout",
     "output_type": "stream",
     "text": [
      "1 2 3 \n",
      "4 5 6 \n",
      "7 8 9 \n"
     ]
    }
   ],
   "source": [
    "# Print 2D matrix \n",
    "\n",
    "A = [[1,2,3],[4,5,6],[7,8,9]]\n",
    "\n",
    "for i in range(0,len(A)):\n",
    "    for j in range(0,len(A[0])):\n",
    "        print(A[i][j],end=\" \")\n",
    "    print()"
   ]
  },
  {
   "cell_type": "code",
   "execution_count": 10,
   "id": "8075a775",
   "metadata": {},
   "outputs": [
    {
     "name": "stdout",
     "output_type": "stream",
     "text": [
      "18\n"
     ]
    }
   ],
   "source": [
    "# Print max of sum of columns \n",
    "\n",
    "A = [[1,2,3],[4,5,6],[7,8,9]]\n",
    "\n",
    "maxx = float('-inf')\n",
    "\n",
    "for i in range(0,len(A)):\n",
    "    summ = 0\n",
    "    for j in range(0,len(A[0])):\n",
    "        summ += A[j][i]\n",
    "    \n",
    "    maxx = max(summ,maxx)\n",
    "\n",
    "print(maxx)"
   ]
  },
  {
   "cell_type": "code",
   "execution_count": 8,
   "id": "800cc92d",
   "metadata": {},
   "outputs": [
    {
     "name": "stdout",
     "output_type": "stream",
     "text": [
      "1\n",
      "5\n",
      "9\n"
     ]
    }
   ],
   "source": [
    "# Print diagonal elements L to R of a NxN matrix\n",
    "\n",
    "A = [[1,2,3],[4,5,6],[7,8,9]]\n",
    "\n",
    "for i in range(0,len(A)):\n",
    "    print(A[i][i])"
   ]
  },
  {
   "cell_type": "code",
   "execution_count": 12,
   "id": "5dc87115",
   "metadata": {},
   "outputs": [
    {
     "name": "stdout",
     "output_type": "stream",
     "text": [
      "3\n",
      "5\n",
      "7\n"
     ]
    }
   ],
   "source": [
    "# Print diagonal elements R to L of a NxN matrix\n",
    "\n",
    "A = [[1,2,3],[4,5,6],[7,8,9]]\n",
    "\n",
    "j = len(A)-1\n",
    "\n",
    "for i in range(0,len(A)):\n",
    "    print(A[i][j])\n",
    "    j -= 1"
   ]
  },
  {
   "cell_type": "code",
   "execution_count": null,
   "id": "fab9b128",
   "metadata": {},
   "outputs": [],
   "source": []
  }
 ],
 "metadata": {
  "kernelspec": {
   "display_name": "Python 3 (ipykernel)",
   "language": "python",
   "name": "python3"
  },
  "language_info": {
   "codemirror_mode": {
    "name": "ipython",
    "version": 3
   },
   "file_extension": ".py",
   "mimetype": "text/x-python",
   "name": "python",
   "nbconvert_exporter": "python",
   "pygments_lexer": "ipython3",
   "version": "3.9.12"
  }
 },
 "nbformat": 4,
 "nbformat_minor": 5
}
